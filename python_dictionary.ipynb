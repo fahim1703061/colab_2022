{
  "nbformat": 4,
  "nbformat_minor": 0,
  "metadata": {
    "colab": {
      "name": "python_dictionary.ipynb",
      "provenance": [],
      "collapsed_sections": [],
      "authorship_tag": "ABX9TyOBvMN+5qKYMu7NXKjS97QV",
      "include_colab_link": true
    },
    "kernelspec": {
      "name": "python3",
      "display_name": "Python 3"
    },
    "language_info": {
      "name": "python"
    }
  },
  "cells": [
    {
      "cell_type": "markdown",
      "metadata": {
        "id": "view-in-github",
        "colab_type": "text"
      },
      "source": [
        "<a href=\"https://colab.research.google.com/github/fahim1703061/colab_2022/blob/main/python_dictionary.ipynb\" target=\"_parent\"><img src=\"https://colab.research.google.com/assets/colab-badge.svg\" alt=\"Open In Colab\"/></a>"
      ]
    },
    {
      "cell_type": "markdown",
      "source": [
        "# **python Dictionary**\n",
        "Dictionaries are used to store data values in key:value pairs.\n",
        "\n",
        "A dictionary is a collection which is ordered*, changeable and do not allow duplicates.\n",
        "\n",
        "As of Python version 3.7, dictionaries are ordered. In Python 3.6 and earlier, dictionaries are unordered.\n",
        "\n",
        "Dictionaries are written with curly brackets, and have keys and values"
      ],
      "metadata": {
        "id": "XzFtKEOZtvhG"
      }
    },
    {
      "cell_type": "code",
      "execution_count": null,
      "metadata": {
        "id": "iMWT7N2Cswuq"
      },
      "outputs": [],
      "source": [
        "\n",
        "#empty dictionary\n",
        "thisdict = {}"
      ]
    },
    {
      "cell_type": "code",
      "source": [
        "#dictionary with int key\n",
        "thisdict = {\n",
        "    1: \"Fahim Faisal\",\n",
        "    2: \"Junaed\",\n",
        "    3: \"Raha\"\n",
        "}\n",
        "print(thisdict)\n",
        "x = thisdict[1]\n",
        "y = thisdict.get(2)\n",
        "print(x)\n",
        "\n",
        "key = thisdict.keys()\n",
        "print(key)\n",
        "\n",
        "thisdict[3] = \"Ananta Raha\"\n",
        "value = thisdict.values()\n",
        "print(value)"
      ],
      "metadata": {
        "colab": {
          "base_uri": "https://localhost:8080/"
        },
        "id": "LiFg0kEQu85S",
        "outputId": "e02f0b6c-5c3e-4629-dcde-0f754560bfa6"
      },
      "execution_count": 10,
      "outputs": [
        {
          "output_type": "stream",
          "name": "stdout",
          "text": [
            "{1: 'Fahim Faisal', 2: 'Junaed', 3: 'Raha'}\n",
            "Fahim Faisal\n",
            "dict_keys([1, 2, 3])\n",
            "dict_values(['Fahim Faisal', 'Junaed', 'Ananta Raha'])\n"
          ]
        }
      ]
    },
    {
      "cell_type": "markdown",
      "source": [
        ""
      ],
      "metadata": {
        "id": "tsBiyUD_tsu3"
      }
    }
  ]
}